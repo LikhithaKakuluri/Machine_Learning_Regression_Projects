{
 "cells": [
  {
   "cell_type": "markdown",
   "id": "5abd05da",
   "metadata": {},
   "source": [
    "# Importing the Dependencies"
   ]
  },
  {
   "cell_type": "code",
   "execution_count": 2,
   "id": "a642c152",
   "metadata": {},
   "outputs": [],
   "source": [
    "import pandas as pd\n",
    "import numpy as np\n",
    "import matplotlib.pyplot as plt\n",
    "import seaborn as sns\n",
    "from sklearn import metrics\n",
    "from sklearn.model_selection import train_test_split\n",
    "from sklearn.ensemble import RandomForestRegressor"
   ]
  },
  {
   "cell_type": "markdown",
   "id": "69869e40",
   "metadata": {},
   "source": [
    "# Data Collection and Processing"
   ]
  },
  {
   "cell_type": "code",
   "execution_count": 4,
   "id": "0359d341",
   "metadata": {},
   "outputs": [
    {
     "data": {
      "text/html": [
       "<div>\n",
       "<style scoped>\n",
       "    .dataframe tbody tr th:only-of-type {\n",
       "        vertical-align: middle;\n",
       "    }\n",
       "\n",
       "    .dataframe tbody tr th {\n",
       "        vertical-align: top;\n",
       "    }\n",
       "\n",
       "    .dataframe thead th {\n",
       "        text-align: right;\n",
       "    }\n",
       "</style>\n",
       "<table border=\"1\" class=\"dataframe\">\n",
       "  <thead>\n",
       "    <tr style=\"text-align: right;\">\n",
       "      <th></th>\n",
       "      <th>Date</th>\n",
       "      <th>SPX</th>\n",
       "      <th>GLD</th>\n",
       "      <th>USO</th>\n",
       "      <th>SLV</th>\n",
       "      <th>EUR/USD</th>\n",
       "    </tr>\n",
       "  </thead>\n",
       "  <tbody>\n",
       "    <tr>\n",
       "      <th>0</th>\n",
       "      <td>1/2/2008</td>\n",
       "      <td>1447.160034</td>\n",
       "      <td>84.860001</td>\n",
       "      <td>78.470001</td>\n",
       "      <td>15.1800</td>\n",
       "      <td>1.471692</td>\n",
       "    </tr>\n",
       "    <tr>\n",
       "      <th>1</th>\n",
       "      <td>1/3/2008</td>\n",
       "      <td>1447.160034</td>\n",
       "      <td>85.570000</td>\n",
       "      <td>78.370003</td>\n",
       "      <td>15.2850</td>\n",
       "      <td>1.474491</td>\n",
       "    </tr>\n",
       "    <tr>\n",
       "      <th>2</th>\n",
       "      <td>1/4/2008</td>\n",
       "      <td>1411.630005</td>\n",
       "      <td>85.129997</td>\n",
       "      <td>77.309998</td>\n",
       "      <td>15.1670</td>\n",
       "      <td>1.475492</td>\n",
       "    </tr>\n",
       "    <tr>\n",
       "      <th>3</th>\n",
       "      <td>1/7/2008</td>\n",
       "      <td>1416.180054</td>\n",
       "      <td>84.769997</td>\n",
       "      <td>75.500000</td>\n",
       "      <td>15.0530</td>\n",
       "      <td>1.468299</td>\n",
       "    </tr>\n",
       "    <tr>\n",
       "      <th>4</th>\n",
       "      <td>1/8/2008</td>\n",
       "      <td>1390.189941</td>\n",
       "      <td>86.779999</td>\n",
       "      <td>76.059998</td>\n",
       "      <td>15.5900</td>\n",
       "      <td>1.557099</td>\n",
       "    </tr>\n",
       "    <tr>\n",
       "      <th>...</th>\n",
       "      <td>...</td>\n",
       "      <td>...</td>\n",
       "      <td>...</td>\n",
       "      <td>...</td>\n",
       "      <td>...</td>\n",
       "      <td>...</td>\n",
       "    </tr>\n",
       "    <tr>\n",
       "      <th>2285</th>\n",
       "      <td>5/8/2018</td>\n",
       "      <td>2671.919922</td>\n",
       "      <td>124.589996</td>\n",
       "      <td>14.060000</td>\n",
       "      <td>15.5100</td>\n",
       "      <td>1.186789</td>\n",
       "    </tr>\n",
       "    <tr>\n",
       "      <th>2286</th>\n",
       "      <td>5/9/2018</td>\n",
       "      <td>2697.790039</td>\n",
       "      <td>124.330002</td>\n",
       "      <td>14.370000</td>\n",
       "      <td>15.5300</td>\n",
       "      <td>1.184722</td>\n",
       "    </tr>\n",
       "    <tr>\n",
       "      <th>2287</th>\n",
       "      <td>5/10/2018</td>\n",
       "      <td>2723.070068</td>\n",
       "      <td>125.180000</td>\n",
       "      <td>14.410000</td>\n",
       "      <td>15.7400</td>\n",
       "      <td>1.191753</td>\n",
       "    </tr>\n",
       "    <tr>\n",
       "      <th>2288</th>\n",
       "      <td>5/14/2018</td>\n",
       "      <td>2730.129883</td>\n",
       "      <td>124.489998</td>\n",
       "      <td>14.380000</td>\n",
       "      <td>15.5600</td>\n",
       "      <td>1.193118</td>\n",
       "    </tr>\n",
       "    <tr>\n",
       "      <th>2289</th>\n",
       "      <td>5/16/2018</td>\n",
       "      <td>2725.780029</td>\n",
       "      <td>122.543800</td>\n",
       "      <td>14.405800</td>\n",
       "      <td>15.4542</td>\n",
       "      <td>1.182033</td>\n",
       "    </tr>\n",
       "  </tbody>\n",
       "</table>\n",
       "<p>2290 rows × 6 columns</p>\n",
       "</div>"
      ],
      "text/plain": [
       "           Date          SPX         GLD        USO      SLV   EUR/USD\n",
       "0      1/2/2008  1447.160034   84.860001  78.470001  15.1800  1.471692\n",
       "1      1/3/2008  1447.160034   85.570000  78.370003  15.2850  1.474491\n",
       "2      1/4/2008  1411.630005   85.129997  77.309998  15.1670  1.475492\n",
       "3      1/7/2008  1416.180054   84.769997  75.500000  15.0530  1.468299\n",
       "4      1/8/2008  1390.189941   86.779999  76.059998  15.5900  1.557099\n",
       "...         ...          ...         ...        ...      ...       ...\n",
       "2285   5/8/2018  2671.919922  124.589996  14.060000  15.5100  1.186789\n",
       "2286   5/9/2018  2697.790039  124.330002  14.370000  15.5300  1.184722\n",
       "2287  5/10/2018  2723.070068  125.180000  14.410000  15.7400  1.191753\n",
       "2288  5/14/2018  2730.129883  124.489998  14.380000  15.5600  1.193118\n",
       "2289  5/16/2018  2725.780029  122.543800  14.405800  15.4542  1.182033\n",
       "\n",
       "[2290 rows x 6 columns]"
      ]
     },
     "execution_count": 4,
     "metadata": {},
     "output_type": "execute_result"
    }
   ],
   "source": [
    "df=pd.read_csv(\"gold.csv\")\n",
    "df"
   ]
  },
  {
   "cell_type": "code",
   "execution_count": 5,
   "id": "f5f0b27e",
   "metadata": {},
   "outputs": [
    {
     "data": {
      "text/plain": [
       "(2290, 6)"
      ]
     },
     "execution_count": 5,
     "metadata": {},
     "output_type": "execute_result"
    }
   ],
   "source": [
    "#number of rows and columns\n",
    "df.shape"
   ]
  },
  {
   "cell_type": "code",
   "execution_count": 6,
   "id": "79cb8dfd",
   "metadata": {},
   "outputs": [
    {
     "name": "stdout",
     "output_type": "stream",
     "text": [
      "<class 'pandas.core.frame.DataFrame'>\n",
      "RangeIndex: 2290 entries, 0 to 2289\n",
      "Data columns (total 6 columns):\n",
      " #   Column   Non-Null Count  Dtype  \n",
      "---  ------   --------------  -----  \n",
      " 0   Date     2290 non-null   object \n",
      " 1   SPX      2290 non-null   float64\n",
      " 2   GLD      2290 non-null   float64\n",
      " 3   USO      2290 non-null   float64\n",
      " 4   SLV      2290 non-null   float64\n",
      " 5   EUR/USD  2290 non-null   float64\n",
      "dtypes: float64(5), object(1)\n",
      "memory usage: 107.5+ KB\n"
     ]
    }
   ],
   "source": [
    "#getting some basic information about the data\n",
    "df.info()"
   ]
  },
  {
   "cell_type": "code",
   "execution_count": 7,
   "id": "60a10d4c",
   "metadata": {},
   "outputs": [
    {
     "data": {
      "text/plain": [
       "Date       0\n",
       "SPX        0\n",
       "GLD        0\n",
       "USO        0\n",
       "SLV        0\n",
       "EUR/USD    0\n",
       "dtype: int64"
      ]
     },
     "execution_count": 7,
     "metadata": {},
     "output_type": "execute_result"
    }
   ],
   "source": [
    "#checking the missing values\n",
    "df.isnull().sum()"
   ]
  },
  {
   "cell_type": "code",
   "execution_count": 8,
   "id": "33bb4e6c",
   "metadata": {},
   "outputs": [
    {
     "data": {
      "text/html": [
       "<div>\n",
       "<style scoped>\n",
       "    .dataframe tbody tr th:only-of-type {\n",
       "        vertical-align: middle;\n",
       "    }\n",
       "\n",
       "    .dataframe tbody tr th {\n",
       "        vertical-align: top;\n",
       "    }\n",
       "\n",
       "    .dataframe thead th {\n",
       "        text-align: right;\n",
       "    }\n",
       "</style>\n",
       "<table border=\"1\" class=\"dataframe\">\n",
       "  <thead>\n",
       "    <tr style=\"text-align: right;\">\n",
       "      <th></th>\n",
       "      <th>SPX</th>\n",
       "      <th>GLD</th>\n",
       "      <th>USO</th>\n",
       "      <th>SLV</th>\n",
       "      <th>EUR/USD</th>\n",
       "    </tr>\n",
       "  </thead>\n",
       "  <tbody>\n",
       "    <tr>\n",
       "      <th>count</th>\n",
       "      <td>2290.000000</td>\n",
       "      <td>2290.000000</td>\n",
       "      <td>2290.000000</td>\n",
       "      <td>2290.000000</td>\n",
       "      <td>2290.000000</td>\n",
       "    </tr>\n",
       "    <tr>\n",
       "      <th>mean</th>\n",
       "      <td>1654.315776</td>\n",
       "      <td>122.732875</td>\n",
       "      <td>31.842221</td>\n",
       "      <td>20.084997</td>\n",
       "      <td>1.283653</td>\n",
       "    </tr>\n",
       "    <tr>\n",
       "      <th>std</th>\n",
       "      <td>519.111540</td>\n",
       "      <td>23.283346</td>\n",
       "      <td>19.523517</td>\n",
       "      <td>7.092566</td>\n",
       "      <td>0.131547</td>\n",
       "    </tr>\n",
       "    <tr>\n",
       "      <th>min</th>\n",
       "      <td>676.530029</td>\n",
       "      <td>70.000000</td>\n",
       "      <td>7.960000</td>\n",
       "      <td>8.850000</td>\n",
       "      <td>1.039047</td>\n",
       "    </tr>\n",
       "    <tr>\n",
       "      <th>25%</th>\n",
       "      <td>1239.874969</td>\n",
       "      <td>109.725000</td>\n",
       "      <td>14.380000</td>\n",
       "      <td>15.570000</td>\n",
       "      <td>1.171313</td>\n",
       "    </tr>\n",
       "    <tr>\n",
       "      <th>50%</th>\n",
       "      <td>1551.434998</td>\n",
       "      <td>120.580002</td>\n",
       "      <td>33.869999</td>\n",
       "      <td>17.268500</td>\n",
       "      <td>1.303297</td>\n",
       "    </tr>\n",
       "    <tr>\n",
       "      <th>75%</th>\n",
       "      <td>2073.010070</td>\n",
       "      <td>132.840004</td>\n",
       "      <td>37.827501</td>\n",
       "      <td>22.882500</td>\n",
       "      <td>1.369971</td>\n",
       "    </tr>\n",
       "    <tr>\n",
       "      <th>max</th>\n",
       "      <td>2872.870117</td>\n",
       "      <td>184.589996</td>\n",
       "      <td>117.480003</td>\n",
       "      <td>47.259998</td>\n",
       "      <td>1.598798</td>\n",
       "    </tr>\n",
       "  </tbody>\n",
       "</table>\n",
       "</div>"
      ],
      "text/plain": [
       "               SPX          GLD          USO          SLV      EUR/USD\n",
       "count  2290.000000  2290.000000  2290.000000  2290.000000  2290.000000\n",
       "mean   1654.315776   122.732875    31.842221    20.084997     1.283653\n",
       "std     519.111540    23.283346    19.523517     7.092566     0.131547\n",
       "min     676.530029    70.000000     7.960000     8.850000     1.039047\n",
       "25%    1239.874969   109.725000    14.380000    15.570000     1.171313\n",
       "50%    1551.434998   120.580002    33.869999    17.268500     1.303297\n",
       "75%    2073.010070   132.840004    37.827501    22.882500     1.369971\n",
       "max    2872.870117   184.589996   117.480003    47.259998     1.598798"
      ]
     },
     "execution_count": 8,
     "metadata": {},
     "output_type": "execute_result"
    }
   ],
   "source": [
    "#Statistical measures\n",
    "df.describe()"
   ]
  },
  {
   "cell_type": "markdown",
   "id": "0d822bca",
   "metadata": {},
   "source": [
    "# Correlation"
   ]
  },
  {
   "cell_type": "code",
   "execution_count": 9,
   "id": "f920db8b",
   "metadata": {},
   "outputs": [],
   "source": [
    "Correlation=df.corr()"
   ]
  },
  {
   "cell_type": "code",
   "execution_count": 10,
   "id": "cef0174a",
   "metadata": {},
   "outputs": [
    {
     "data": {
      "text/plain": [
       "<AxesSubplot:>"
      ]
     },
     "execution_count": 10,
     "metadata": {},
     "output_type": "execute_result"
    },
    {
     "data": {
      "image/png": "[encoded data removed]",
      "text/plain": [
       "<Figure size 576x576 with 2 Axes>"
      ]
     },
     "metadata": {
      "needs_background": "light"
     },
     "output_type": "display_data"
    }
   ],
   "source": [
    "#Constructing heatmap to understand the correlation\n",
    "plt.figure(figsize=(8,8))\n",
    "sns.heatmap(Correlation,cbar=True,square=True,fmt='.1f',annot=True,annot_kws={'size':8},cmap='Blues')"
   ]
  },
  {
   "cell_type": "code",
   "execution_count": 11,
   "id": "2bd3cbdd",
   "metadata": {},
   "outputs": [
    {
     "name": "stdout",
     "output_type": "stream",
     "text": [
      "SPX        0.049345\n",
      "GLD        1.000000\n",
      "USO       -0.186360\n",
      "SLV        0.866632\n",
      "EUR/USD   -0.024375\n",
      "Name: GLD, dtype: float64\n"
     ]
    }
   ],
   "source": [
    "#Correlation value of GLD\n",
    "print(Correlation['GLD'])"
   ]
  },
  {
   "cell_type": "code",
   "execution_count": 12,
   "id": "71d55dd3",
   "metadata": {},
   "outputs": [
    {
     "name": "stderr",
     "output_type": "stream",
     "text": [
      "C:\\Users\\kakul\\anaconda3\\lib\\site-packages\\seaborn\\distributions.py:2619: FutureWarning: `distplot` is a deprecated function and will be removed in a future version. Please adapt your code to use either `displot` (a figure-level function with similar flexibility) or `histplot` (an axes-level function for histograms).\n",
      "  warnings.warn(msg, FutureWarning)\n"
     ]
    },
    {
     "data": {
      "text/plain": [
       "<AxesSubplot:xlabel='GLD', ylabel='Density'>"
      ]
     },
     "execution_count": 12,
     "metadata": {},
     "output_type": "execute_result"
    },
    {
     "data": {
      "image/png": "[encoded data removed]",
      "text/plain": [
       "<Figure size 432x288 with 1 Axes>"
      ]
     },
     "metadata": {
      "needs_background": "light"
     },
     "output_type": "display_data"
    }
   ],
   "source": [
    "#Checking the distribution of the GLD Price\n",
    "sns.distplot(df['GLD'],color='green')"
   ]
  },
  {
   "cell_type": "markdown",
   "id": "b5505e8e",
   "metadata": {},
   "source": [
    "# Splitting the data into features and labels"
   ]
  },
  {
   "cell_type": "code",
   "execution_count": 13,
   "id": "b161d5ec",
   "metadata": {},
   "outputs": [],
   "source": [
    "x=df.drop(['Date','GLD'],axis=1)\n",
    "y=df['GLD']"
   ]
  },
  {
   "cell_type": "code",
   "execution_count": 15,
   "id": "c497ce7d",
   "metadata": {},
   "outputs": [
    {
     "data": {
      "text/html": [
       "<div>\n",
       "<style scoped>\n",
       "    .dataframe tbody tr th:only-of-type {\n",
       "        vertical-align: middle;\n",
       "    }\n",
       "\n",
       "    .dataframe tbody tr th {\n",
       "        vertical-align: top;\n",
       "    }\n",
       "\n",
       "    .dataframe thead th {\n",
       "        text-align: right;\n",
       "    }\n",
       "</style>\n",
       "<table border=\"1\" class=\"dataframe\">\n",
       "  <thead>\n",
       "    <tr style=\"text-align: right;\">\n",
       "      <th></th>\n",
       "      <th>SPX</th>\n",
       "      <th>USO</th>\n",
       "      <th>SLV</th>\n",
       "      <th>EUR/USD</th>\n",
       "    </tr>\n",
       "  </thead>\n",
       "  <tbody>\n",
       "    <tr>\n",
       "      <th>0</th>\n",
       "      <td>1447.160034</td>\n",
       "      <td>78.470001</td>\n",
       "      <td>15.1800</td>\n",
       "      <td>1.471692</td>\n",
       "    </tr>\n",
       "    <tr>\n",
       "      <th>1</th>\n",
       "      <td>1447.160034</td>\n",
       "      <td>78.370003</td>\n",
       "      <td>15.2850</td>\n",
       "      <td>1.474491</td>\n",
       "    </tr>\n",
       "    <tr>\n",
       "      <th>2</th>\n",
       "      <td>1411.630005</td>\n",
       "      <td>77.309998</td>\n",
       "      <td>15.1670</td>\n",
       "      <td>1.475492</td>\n",
       "    </tr>\n",
       "    <tr>\n",
       "      <th>3</th>\n",
       "      <td>1416.180054</td>\n",
       "      <td>75.500000</td>\n",
       "      <td>15.0530</td>\n",
       "      <td>1.468299</td>\n",
       "    </tr>\n",
       "    <tr>\n",
       "      <th>4</th>\n",
       "      <td>1390.189941</td>\n",
       "      <td>76.059998</td>\n",
       "      <td>15.5900</td>\n",
       "      <td>1.557099</td>\n",
       "    </tr>\n",
       "    <tr>\n",
       "      <th>...</th>\n",
       "      <td>...</td>\n",
       "      <td>...</td>\n",
       "      <td>...</td>\n",
       "      <td>...</td>\n",
       "    </tr>\n",
       "    <tr>\n",
       "      <th>2285</th>\n",
       "      <td>2671.919922</td>\n",
       "      <td>14.060000</td>\n",
       "      <td>15.5100</td>\n",
       "      <td>1.186789</td>\n",
       "    </tr>\n",
       "    <tr>\n",
       "      <th>2286</th>\n",
       "      <td>2697.790039</td>\n",
       "      <td>14.370000</td>\n",
       "      <td>15.5300</td>\n",
       "      <td>1.184722</td>\n",
       "    </tr>\n",
       "    <tr>\n",
       "      <th>2287</th>\n",
       "      <td>2723.070068</td>\n",
       "      <td>14.410000</td>\n",
       "      <td>15.7400</td>\n",
       "      <td>1.191753</td>\n",
       "    </tr>\n",
       "    <tr>\n",
       "      <th>2288</th>\n",
       "      <td>2730.129883</td>\n",
       "      <td>14.380000</td>\n",
       "      <td>15.5600</td>\n",
       "      <td>1.193118</td>\n",
       "    </tr>\n",
       "    <tr>\n",
       "      <th>2289</th>\n",
       "      <td>2725.780029</td>\n",
       "      <td>14.405800</td>\n",
       "      <td>15.4542</td>\n",
       "      <td>1.182033</td>\n",
       "    </tr>\n",
       "  </tbody>\n",
       "</table>\n",
       "<p>2290 rows × 4 columns</p>\n",
       "</div>"
      ],
      "text/plain": [
       "              SPX        USO      SLV   EUR/USD\n",
       "0     1447.160034  78.470001  15.1800  1.471692\n",
       "1     1447.160034  78.370003  15.2850  1.474491\n",
       "2     1411.630005  77.309998  15.1670  1.475492\n",
       "3     1416.180054  75.500000  15.0530  1.468299\n",
       "4     1390.189941  76.059998  15.5900  1.557099\n",
       "...           ...        ...      ...       ...\n",
       "2285  2671.919922  14.060000  15.5100  1.186789\n",
       "2286  2697.790039  14.370000  15.5300  1.184722\n",
       "2287  2723.070068  14.410000  15.7400  1.191753\n",
       "2288  2730.129883  14.380000  15.5600  1.193118\n",
       "2289  2725.780029  14.405800  15.4542  1.182033\n",
       "\n",
       "[2290 rows x 4 columns]"
      ]
     },
     "execution_count": 15,
     "metadata": {},
     "output_type": "execute_result"
    }
   ],
   "source": [
    "x"
   ]
  },
  {
   "cell_type": "code",
   "execution_count": 16,
   "id": "059df8bd",
   "metadata": {},
   "outputs": [
    {
     "data": {
      "text/plain": [
       "0        84.860001\n",
       "1        85.570000\n",
       "2        85.129997\n",
       "3        84.769997\n",
       "4        86.779999\n",
       "           ...    \n",
       "2285    124.589996\n",
       "2286    124.330002\n",
       "2287    125.180000\n",
       "2288    124.489998\n",
       "2289    122.543800\n",
       "Name: GLD, Length: 2290, dtype: float64"
      ]
     },
     "execution_count": 16,
     "metadata": {},
     "output_type": "execute_result"
    }
   ],
   "source": [
    "y"
   ]
  },
  {
   "cell_type": "markdown",
   "id": "014329b8",
   "metadata": {},
   "source": [
    "# Splitting the training and test data"
   ]
  },
  {
   "cell_type": "code",
   "execution_count": 18,
   "id": "3cb9d0a1",
   "metadata": {},
   "outputs": [],
   "source": [
    "x_train,x_test,y_train,y_test=train_test_split(x,y,test_size=0.2,random_state=2)"
   ]
  },
  {
   "cell_type": "markdown",
   "id": "b497b5cb",
   "metadata": {},
   "source": [
    "# Model Training"
   ]
  },
  {
   "cell_type": "markdown",
   "id": "dbf1d854",
   "metadata": {},
   "source": [
    "# Random Forest Regressor"
   ]
  },
  {
   "cell_type": "code",
   "execution_count": 19,
   "id": "3c7f300b",
   "metadata": {},
   "outputs": [
    {
     "data": {
      "text/plain": [
       "RandomForestRegressor()"
      ]
     },
     "execution_count": 19,
     "metadata": {},
     "output_type": "execute_result"
    }
   ],
   "source": [
    "rf=RandomForestRegressor(n_estimators=100)\n",
    "rf.fit(x_train,y_train)"
   ]
  },
  {
   "cell_type": "markdown",
   "id": "f8744041",
   "metadata": {},
   "source": [
    "# Model Evaluation"
   ]
  },
  {
   "cell_type": "code",
   "execution_count": 20,
   "id": "0a860f58",
   "metadata": {},
   "outputs": [],
   "source": [
    "#prediction on test data\n",
    "test_data_prediction=rf.predict(x_test)"
   ]
  },
  {
   "cell_type": "code",
   "execution_count": 21,
   "id": "afa5fb82",
   "metadata": {},
   "outputs": [
    {
     "data": {
      "text/plain": [
       "array([168.54439945,  82.14889981, 115.64999986, 127.64780086,\n",
       "       120.59950142, 154.78569745, 150.50869837, 126.10810057,\n",
       "       117.50139862, 125.94540099, 116.78700099, 171.38890092,\n",
       "       141.24599801, 168.02489835, 115.12020011, 117.73730049,\n",
       "       138.58740371, 169.85360005, 159.0471032 , 158.11559984,\n",
       "       155.09179967, 125.46530054, 176.57839911, 157.12380434,\n",
       "       125.29460041,  93.88069978,  78.12609999, 120.31519999,\n",
       "       119.13649936, 167.36439914,  88.05620043, 125.3381999 ,\n",
       "        91.13680108, 117.68130022, 121.13019924, 136.21890082,\n",
       "       115.39890143, 115.1718007 , 147.87439942, 107.01270069,\n",
       "       104.44420249,  87.49109829, 126.56300053, 117.95009958,\n",
       "       154.603799  , 119.52110002, 108.31069975, 107.97069812,\n",
       "        93.2295003 , 127.03959806,  75.06240026, 113.64299879,\n",
       "       121.39870012, 111.18749924, 118.83809878, 120.03729933,\n",
       "       159.94080011, 166.86940169, 146.80199644,  86.00889879,\n",
       "        94.31980047,  86.87569907,  90.47000004, 119.00980074,\n",
       "       126.44910075, 127.50339986, 169.68839977, 122.32029957,\n",
       "       117.26079908,  98.34520015, 168.216301  , 143.08699849,\n",
       "       132.58000281, 121.07090234, 121.53749943, 119.66140061,\n",
       "       114.71940167, 118.25540043, 107.17340085, 127.85580075,\n",
       "       114.20049957, 107.22799987, 116.64150066, 119.60769877,\n",
       "        88.94230021,  88.29999878, 146.36180222, 127.25719969,\n",
       "       113.57689998, 109.83609844, 108.29049906,  77.14859909,\n",
       "       169.62740183, 114.02519917, 121.71219889, 128.1062019 ,\n",
       "       154.78179805,  91.55309923, 137.79840081, 159.42220342,\n",
       "       125.46880069, 125.0848006 , 130.71300179, 114.9888012 ,\n",
       "       120.00250015,  92.13169977, 110.2695987 , 165.70719889,\n",
       "       156.90999972, 114.10939958, 106.58240128,  79.58759954,\n",
       "       113.4101003 , 125.79700085, 107.18989909, 119.1287007 ,\n",
       "       156.21370345, 159.79569829, 119.67180021, 134.375803  ,\n",
       "       101.46749974, 117.66999789, 119.36690054, 112.962401  ,\n",
       "       102.78909898, 160.37739786,  99.75760045, 147.18789863,\n",
       "       125.59510108, 169.42409887, 126.10809819, 127.33539768,\n",
       "       127.30530161, 113.52799956, 112.77570099, 123.292499  ,\n",
       "       102.1027991 ,  89.02540006, 124.63659993, 101.55239936,\n",
       "       107.04039914, 113.26700104, 117.31940118,  99.18599926,\n",
       "       121.78830037, 163.87509938,  87.63929872, 106.51619987,\n",
       "       117.34780061, 127.71080136, 124.07930079,  80.70299917,\n",
       "       120.23660046, 158.13289726,  87.92769987, 110.12349985,\n",
       "       118.98279908, 172.33119879, 102.99559913, 106.25940045,\n",
       "       122.49320048, 158.49509676,  87.47569856,  93.02100044,\n",
       "       112.51720042, 177.35089893, 114.26009981, 119.31930037,\n",
       "        94.76090078, 125.73029995, 165.98550049, 115.1198008 ,\n",
       "       116.61060118,  88.34589872, 149.19450088, 120.48689947,\n",
       "        89.32399987, 111.80639952, 117.10540018, 118.86420118,\n",
       "        88.04049934,  94.1372999 , 116.92720034, 118.54910175,\n",
       "       120.29070079, 126.82729802, 121.88360004, 148.81480026,\n",
       "       165.34049991, 118.48849988, 120.11280104, 150.84600006,\n",
       "       118.6756992 , 172.64209875, 105.43159962, 104.96640131,\n",
       "       149.96390089, 113.73190125, 124.95220119, 147.60889986,\n",
       "       119.56540151, 115.40610079, 112.10519949, 113.50340177,\n",
       "       142.22250114, 117.96419773, 102.90930044, 115.81150116,\n",
       "       103.87960174,  98.83140042, 117.22020067,  90.58730037,\n",
       "        91.47180041, 153.44949924, 102.69919971, 154.69860053,\n",
       "       114.31690141, 138.61080039,  90.05039834, 115.45979955,\n",
       "       114.48360009, 122.99949996, 121.60670056, 165.44650129,\n",
       "        92.9966993 , 135.65100159, 121.3231992 , 120.82240072,\n",
       "       104.51440007, 141.51910298, 121.72799924, 116.6467005 ,\n",
       "       113.48800098, 127.04629769, 122.80779929, 125.89399928,\n",
       "       121.24000035,  86.8202993 , 132.39660208, 143.30490222,\n",
       "        92.72399941, 160.07889995, 159.192903  , 126.36169917,\n",
       "       165.5802997 , 108.63799963, 109.32940108, 103.54699814,\n",
       "        94.30880036, 127.73210282, 107.03720087, 162.91249994,\n",
       "       121.77620021, 132.01490018, 130.54680201, 160.83709956,\n",
       "        90.01659845, 175.92390188, 127.51270069, 127.01869776,\n",
       "        86.31059898, 124.7195994 , 150.23179712,  89.59280024,\n",
       "       106.84499972, 109.08209996,  84.50599896, 136.19830059,\n",
       "       155.15420304, 138.8455036 ,  74.10730004, 152.2287007 ,\n",
       "       126.46640032, 126.71430012, 127.48259872, 108.48859926,\n",
       "       156.4240002 , 114.66270101, 117.00260176, 125.35019968,\n",
       "       154.19110134, 121.36939991, 156.31359894,  92.86370061,\n",
       "       125.51850127, 125.46170023,  88.18740095,  92.11599939,\n",
       "       126.37259926, 128.41380316, 113.2711008 , 117.67899757,\n",
       "       121.04870027, 127.16119777, 119.43410091, 136.6340003 ,\n",
       "        93.92899928, 119.90670044, 113.17670105,  94.33589919,\n",
       "       108.97329978,  87.61119934, 108.56279967,  89.70339955,\n",
       "        92.3325002 , 131.74350313, 162.37880015,  89.29809992,\n",
       "       119.5806009 , 133.06870158, 123.91000023, 128.51990257,\n",
       "       101.93939862,  88.80259863, 131.51110112, 120.14570017,\n",
       "       108.36539961, 169.05500024, 115.32970002,  86.56549892,\n",
       "       118.85750044,  91.04049969, 161.89880026, 116.4845004 ,\n",
       "       121.71030006, 160.26229861, 120.14819937, 112.79319927,\n",
       "       108.46419858, 126.65780014,  76.28110028, 102.9905998 ,\n",
       "       127.64150271, 121.7805995 ,  92.64319988, 131.59700112,\n",
       "       118.04570051, 115.88240029, 154.34680304, 159.24210056,\n",
       "       110.04679964, 152.0727979 , 119.09020075, 160.38010071,\n",
       "       118.58850033, 156.40359949, 115.13589963, 116.90860044,\n",
       "       150.10499908, 115.04230079, 125.81189911, 166.45059936,\n",
       "       117.91200022, 125.18279936, 153.21180326, 153.31080289,\n",
       "       132.16410105, 114.79920068, 121.09320208, 124.90430052,\n",
       "        89.51080084, 123.14829969, 154.74150117, 111.65070029,\n",
       "       106.56169994, 161.92600194, 118.54139963, 165.67710077,\n",
       "       134.29590064, 114.86379993, 152.94939858, 168.78709992,\n",
       "       114.89299991, 114.07030118, 157.59809878,  85.42419919,\n",
       "       127.09470056, 127.9521004 , 128.74139993, 124.26890043,\n",
       "       123.95890074,  90.5928009 , 153.42060067,  96.96080007,\n",
       "       137.35509968,  88.77569882, 107.11279998, 115.10010053,\n",
       "       112.0925011 , 124.26999922,  91.44979855, 125.45610164,\n",
       "       162.22899868, 119.77379877, 165.0317012 , 126.88359783,\n",
       "       112.43539983, 127.57979899,  95.09179937,  90.92689956,\n",
       "       103.67159932, 120.74950041,  83.11629939, 126.33559995,\n",
       "       159.75840465, 117.20900081, 118.45879971, 119.80099976,\n",
       "       122.52129974, 120.17400136, 121.56279997, 118.21970056,\n",
       "       107.23060047, 148.05549952, 126.52849768, 115.78050086,\n",
       "        73.93140015, 127.86020097, 154.28730079, 122.04409974,\n",
       "       125.52820052,  88.64710001, 103.85769842, 124.33790052,\n",
       "       120.29050045,  73.34860087, 151.21860017, 121.13610038,\n",
       "       104.68420015,  86.52659808, 115.08429893, 172.17269872,\n",
       "       119.68050003, 159.03569838, 113.12339958, 121.17380004,\n",
       "       118.51100119,  96.01379985, 118.94390064, 125.87120039,\n",
       "       118.42989944,  96.07400106, 153.77440175, 122.21990001,\n",
       "       147.60669963, 159.6990021 , 113.82190026, 122.56429928,\n",
       "       150.42319786, 127.27580041, 165.56690116, 135.88800085,\n",
       "       120.05159955, 167.31289831, 108.28489932, 121.75579841,\n",
       "       140.01110084, 106.37629926])"
      ]
     },
     "execution_count": 21,
     "metadata": {},
     "output_type": "execute_result"
    }
   ],
   "source": [
    "test_data_prediction"
   ]
  },
  {
   "cell_type": "code",
   "execution_count": 22,
   "id": "c9dfa010",
   "metadata": {},
   "outputs": [
    {
     "name": "stdout",
     "output_type": "stream",
     "text": [
      "R Squared Error: 0.9893355076833551\n"
     ]
    }
   ],
   "source": [
    "#R Squared Error\n",
    "error_square=metrics.r2_score(y_test,test_data_prediction)\n",
    "print(\"R Squared Error:\",error_square)"
   ]
  },
  {
   "cell_type": "markdown",
   "id": "c42f9e40",
   "metadata": {},
   "source": [
    "# Compare the actual values and predicted values in plot"
   ]
  },
  {
   "cell_type": "code",
   "execution_count": 23,
   "id": "6af9f784",
   "metadata": {},
   "outputs": [],
   "source": [
    "y_test=list(y_test)"
   ]
  },
  {
   "cell_type": "code",
   "execution_count": 27,
   "id": "67cfdc91",
   "metadata": {},
   "outputs": [
    {
     "data": {
      "image/png": "[encoded data removed]",
      "text/plain": [
       "<Figure size 432x288 with 1 Axes>"
      ]
     },
     "metadata": {
      "needs_background": "light"
     },
     "output_type": "display_data"
    }
   ],
   "source": [
    "plt.plot(y_test,color='green',label='Actual Value')\n",
    "plt.plot(test_data_prediction,color='yellow',label='Predicted Value')\n",
    "plt.title(\"Actual price vs Predicted price\")\n",
    "plt.xlabel(\"Number of values\")\n",
    "plt.ylabel(\"GLD Price\")\n",
    "plt.legend()\n",
    "plt.show()"
   ]
  },
  {
   "cell_type": "code",
   "execution_count": null,
   "id": "7e6e263a",
   "metadata": {},
   "outputs": [],
   "source": []
  }
 ],
 "metadata": {
  "kernelspec": {
   "display_name": "Python 3 (ipykernel)",
   "language": "python",
   "name": "python3"
  },
  "language_info": {
   "codemirror_mode": {
    "name": "ipython",
    "version": 3
   },
   "file_extension": ".py",
   "mimetype": "text/x-python",
   "name": "python",
   "nbconvert_exporter": "python",
   "pygments_lexer": "ipython3",
   "version": "3.9.12"
  }
 },
 "nbformat": 4,
 "nbformat_minor": 5
}
